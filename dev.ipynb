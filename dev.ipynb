{
 "cells": [
  {
   "cell_type": "code",
   "execution_count": 1,
   "metadata": {},
   "outputs": [
    {
     "name": "stderr",
     "output_type": "stream",
     "text": [
      "c:\\Users\\seth2\\AppData\\Local\\Programs\\Python\\Python310\\lib\\site-packages\\tqdm\\auto.py:21: TqdmWarning: IProgress not found. Please update jupyter and ipywidgets. See https://ipywidgets.readthedocs.io/en/stable/user_install.html\n",
      "  from .autonotebook import tqdm as notebook_tqdm\n"
     ]
    }
   ],
   "source": [
    "import gradio"
   ]
  },
  {
   "cell_type": "code",
   "execution_count": 2,
   "metadata": {},
   "outputs": [
    {
     "name": "stdout",
     "output_type": "stream",
     "text": [
      "IMPORTANT: You are using gradio version 4.4.1, however version 4.29.0 is available, please upgrade.\n",
      "--------\n"
     ]
    }
   ],
   "source": [
    "import shutil\n",
    "\n",
    "def dl(fp):\n",
    "    try:\n",
    "        shutil.copyfile(fp, \"C:\\\\Users\\\\seth2\\\\Desktop\\\\GradBeam\\\\beta\\\\\" + fp.split(\"\\\\\")[len(fp.split(\"\\\\\"))-1])\n",
    "        return(\"Mod was successfully installed\")\n",
    "    except:\n",
    "        return(\"failed\")\n",
    "\n",
    "base = gradio.Interface(fn=dl, inputs=gradio.UploadButton(\"Click to upload mod\"), outputs=gradio.Text())"
   ]
  },
  {
   "cell_type": "code",
   "execution_count": 15,
   "metadata": {},
   "outputs": [
    {
     "name": "stdout",
     "output_type": "stream",
     "text": [
      "IMPORTANT: You are using gradio version 4.4.1, however version 4.29.0 is available, please upgrade.\n",
      "--------\n",
      "Running on local URL:  http://127.0.0.1:7871\n",
      "\n",
      "To create a public link, set `share=True` in `launch()`.\n"
     ]
    },
    {
     "data": {
      "text/html": [
       "<div><iframe src=\"http://127.0.0.1:7871/\" width=\"100%\" height=\"500\" allow=\"autoplay; camera; microphone; clipboard-read; clipboard-write;\" frameborder=\"0\" allowfullscreen></iframe></div>"
      ],
      "text/plain": [
       "<IPython.core.display.HTML object>"
      ]
     },
     "metadata": {},
     "output_type": "display_data"
    },
    {
     "data": {
      "text/plain": []
     },
     "execution_count": 15,
     "metadata": {},
     "output_type": "execute_result"
    }
   ],
   "source": [
    "import subprocess\n",
    "serv = subprocess.Popen([\"C:\\\\Users\\\\seth2\\\\AppData\\\\Local\\\\Roblox\\\\Versions\\\\version-2cca5ed32b534b2a\\\\RobloxPlayerBeta.exe\"])\n",
    "\n",
    "def rServ():\n",
    "    global serv\n",
    "    serv.kill()\n",
    "    serv = subprocess.Popen([\"C:\\\\Users\\\\seth2\\\\AppData\\\\Local\\\\Roblox\\\\Versions\\\\version-2cca5ed32b534b2a\\\\RobloxPlayerBeta.exe\"])\n",
    "    return(\"Restarted Server!\")\n",
    "    \n",
    "\n",
    "def dl(upl):\n",
    "    shutil.copyfile(upl, \"C:\\\\Users\\\\seth2\\\\Desktop\\\\GradBeam\\\\beta\\\\\" + upl.split(\"\\\\\")[len(upl.split(\"\\\\\"))-1])\n",
    "    return \"Mod Uploaded! Restart Server To Apply!\"\n",
    "        \n",
    "\n",
    "with gradio.Blocks() as configPage:\n",
    "    gradio.Markdown(\"# Configure BeamMP Server\\nV0.1\")\n",
    "    with gradio.Row():\n",
    "        upl= inputs=gradio.UploadButton(\"Click to upload mod\", file_count=\"single\")\n",
    "        out = gradio.Text(\"You have not made any changes yet\")\n",
    "        with gradio.Column():\n",
    "            gradio.Markdown(\"# Danger!\")\n",
    "            rserv = gradio.Button(\"RESTART SERVER\")\n",
    "    upl.upload(dl, upl, [out])\n",
    "    rserv.click(rServ, None, [out])\n",
    "configPage.launch()"
   ]
  },
  {
   "cell_type": "code",
   "execution_count": 12,
   "metadata": {},
   "outputs": [],
   "source": []
  },
  {
   "cell_type": "code",
   "execution_count": 14,
   "metadata": {},
   "outputs": [],
   "source": []
  },
  {
   "cell_type": "code",
   "execution_count": 15,
   "metadata": {},
   "outputs": [],
   "source": [
    "serv.kill()"
   ]
  }
 ],
 "metadata": {
  "kernelspec": {
   "display_name": "Python 3",
   "language": "python",
   "name": "python3"
  },
  "language_info": {
   "codemirror_mode": {
    "name": "ipython",
    "version": 3
   },
   "file_extension": ".py",
   "mimetype": "text/x-python",
   "name": "python",
   "nbconvert_exporter": "python",
   "pygments_lexer": "ipython3",
   "version": "3.10.6"
  }
 },
 "nbformat": 4,
 "nbformat_minor": 2
}
